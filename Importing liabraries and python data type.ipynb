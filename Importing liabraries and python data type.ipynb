{
 "cells": [
  {
   "cell_type": "markdown",
   "id": "f660bcb6-6a2f-4e1f-8538-429453ad9134",
   "metadata": {},
   "source": [
    "# Import libraries"
   ]
  },
  {
   "cell_type": "code",
   "execution_count": 2,
   "id": "42b33e19-6f5d-4f11-981d-b2f4a0477ca3",
   "metadata": {},
   "outputs": [],
   "source": [
    "# Import libraries\n",
    "import pandas as pd\n",
    "import numpy as pd\n",
    "import os"
   ]
  },
  {
   "cell_type": "code",
   "execution_count": 18,
   "id": "a6fe26fe-f615-4156-bcc0-3d3ab8f322bb",
   "metadata": {},
   "outputs": [
    {
     "name": "stdout",
     "output_type": "stream",
     "text": [
      "2\n"
     ]
    }
   ],
   "source": [
    "x = 2\n",
    "x\n",
    "type(x)\n",
    "print(x)\n"
   ]
  },
  {
   "cell_type": "code",
   "execution_count": 8,
   "id": "a248b74e-9e12-4e38-98f0-cb996b39f8aa",
   "metadata": {},
   "outputs": [
    {
     "data": {
      "text/plain": [
       "int"
      ]
     },
     "execution_count": 8,
     "metadata": {},
     "output_type": "execute_result"
    }
   ],
   "source": [
    "type(x)\n"
   ]
  },
  {
   "cell_type": "code",
   "execution_count": 10,
   "id": "c3268e71-a64a-47af-ad17-53714edee0c8",
   "metadata": {},
   "outputs": [
    {
     "data": {
      "text/plain": [
       "float"
      ]
     },
     "execution_count": 10,
     "metadata": {},
     "output_type": "execute_result"
    }
   ],
   "source": [
    "y=5.678\n",
    "type(y)"
   ]
  },
  {
   "cell_type": "code",
   "execution_count": 12,
   "id": "affd5246-ccdf-4b74-8ce0-b68066ad35cb",
   "metadata": {},
   "outputs": [
    {
     "data": {
      "text/plain": [
       "str"
      ]
     },
     "execution_count": 12,
     "metadata": {},
     "output_type": "execute_result"
    }
   ],
   "source": [
    "z='Brazil'\n",
    "type(z)"
   ]
  },
  {
   "cell_type": "code",
   "execution_count": 14,
   "id": "5617bb91-1424-4ff5-840a-9464b3f599d5",
   "metadata": {},
   "outputs": [
    {
     "data": {
      "text/plain": [
       "bool"
      ]
     },
     "execution_count": 14,
     "metadata": {},
     "output_type": "execute_result"
    }
   ],
   "source": [
    "type(True)"
   ]
  },
  {
   "cell_type": "code",
   "execution_count": 16,
   "id": "d3d580de-4f84-49fd-bcfe-836b169d42b7",
   "metadata": {},
   "outputs": [
    {
     "data": {
      "text/plain": [
       "bool"
      ]
     },
     "execution_count": 16,
     "metadata": {},
     "output_type": "execute_result"
    }
   ],
   "source": [
    "type(False)"
   ]
  },
  {
   "cell_type": "code",
   "execution_count": 20,
   "id": "589d16ee-9e01-481d-8e47-1fd77d75512a",
   "metadata": {},
   "outputs": [
    {
     "name": "stdout",
     "output_type": "stream",
     "text": [
      "2\n"
     ]
    }
   ],
   "source": [
    "print(x)"
   ]
  },
  {
   "cell_type": "code",
   "execution_count": 22,
   "id": "d5bf4467-9707-40a7-8aea-5293e3a50c2d",
   "metadata": {},
   "outputs": [
    {
     "data": {
      "text/plain": [
       "6"
      ]
     },
     "execution_count": 22,
     "metadata": {},
     "output_type": "execute_result"
    }
   ],
   "source": [
    "x+4"
   ]
  },
  {
   "cell_type": "code",
   "execution_count": 24,
   "id": "c20a2a83-e3c8-4b88-b488-0ae13449e539",
   "metadata": {},
   "outputs": [
    {
     "name": "stdout",
     "output_type": "stream",
     "text": [
      "6\n"
     ]
    }
   ],
   "source": [
    "x=x+4\n",
    "print(x)"
   ]
  },
  {
   "cell_type": "code",
   "execution_count": 26,
   "id": "415aa645-def0-4158-8992-18f4df4f6f97",
   "metadata": {},
   "outputs": [
    {
     "name": "stdout",
     "output_type": "stream",
     "text": [
      "11.678\n"
     ]
    }
   ],
   "source": [
    "print(x+y)"
   ]
  },
  {
   "cell_type": "code",
   "execution_count": 28,
   "id": "1bb405ed-e8ed-4203-a520-d5aeb92cc368",
   "metadata": {},
   "outputs": [
    {
     "name": "stdout",
     "output_type": "stream",
     "text": [
      "Hello,Marley\n"
     ]
    }
   ],
   "source": [
    "a='Hello,'\n",
    "b='Marley'\n",
    "print(a+b)"
   ]
  },
  {
   "cell_type": "code",
   "execution_count": 30,
   "id": "f401515b-c64d-4d97-91d3-002c6db2aeab",
   "metadata": {},
   "outputs": [
    {
     "data": {
      "text/plain": [
       "'potatopotatopotatopotatopotato'"
      ]
     },
     "execution_count": 30,
     "metadata": {},
     "output_type": "execute_result"
    }
   ],
   "source": [
    "n='potato'\n",
    "n*5\n"
   ]
  },
  {
   "cell_type": "code",
   "execution_count": 32,
   "id": "f3c67c78-3c96-4cfc-ad65-87827e859f02",
   "metadata": {},
   "outputs": [
    {
     "data": {
      "text/plain": [
       "False"
      ]
     },
     "execution_count": 32,
     "metadata": {},
     "output_type": "execute_result"
    }
   ],
   "source": [
    "x==y"
   ]
  },
  {
   "cell_type": "code",
   "execution_count": 34,
   "id": "c837375a-abeb-4a07-b9b3-fac62db4184a",
   "metadata": {},
   "outputs": [
    {
     "data": {
      "text/plain": [
       "bool"
      ]
     },
     "execution_count": 34,
     "metadata": {},
     "output_type": "execute_result"
    }
   ],
   "source": [
    "type(x==y)"
   ]
  },
  {
   "cell_type": "markdown",
   "id": "72a00e10-7e5e-4d9f-a171-c7fba0c130e0",
   "metadata": {},
   "source": [
    "# Exercise 4.2 "
   ]
  },
  {
   "cell_type": "code",
   "execution_count": null,
   "id": "7072af2d-eab5-414e-97af-b926d4c6aa4d",
   "metadata": {},
   "outputs": [],
   "source": [
    "# Question no.7"
   ]
  },
  {
   "cell_type": "code",
   "execution_count": 36,
   "id": "68cc69c9-b939-48d8-a923-4fc2e406c2ad",
   "metadata": {},
   "outputs": [
    {
     "name": "stdout",
     "output_type": "stream",
     "text": [
      "100\n"
     ]
    }
   ],
   "source": [
    "a=50\n",
    "b=30\n",
    "c=20\n",
    "result= a+b+c\n",
    "print(result)"
   ]
  },
  {
   "cell_type": "code",
   "execution_count": 42,
   "id": "ca47259a-3235-48f2-bfcf-8616b1cca230",
   "metadata": {},
   "outputs": [
    {
     "name": "stdout",
     "output_type": "stream",
     "text": [
      "100\n"
     ]
    }
   ],
   "source": [
    "x=150\n",
    "y=75\n",
    "z=125\n",
    "result=x-y+z-100\n",
    "print(result)"
   ]
  },
  {
   "cell_type": "code",
   "execution_count": 44,
   "id": "5a50a3d8-a958-4bc5-b332-063dd2c3aa54",
   "metadata": {},
   "outputs": [
    {
     "name": "stdout",
     "output_type": "stream",
     "text": [
      "100\n"
     ]
    }
   ],
   "source": [
    "p=300\n",
    "q=150\n",
    "r=50\n",
    "result=p-q-r\n",
    "print(result)"
   ]
  },
  {
   "cell_type": "code",
   "execution_count": null,
   "id": "712af475-2253-4905-b3b4-5cb4b46074f9",
   "metadata": {},
   "outputs": [],
   "source": [
    "#question no.8"
   ]
  },
  {
   "cell_type": "code",
   "execution_count": 46,
   "id": "bfda9f0a-59e1-4a50-b8b4-a1d11ade1174",
   "metadata": {},
   "outputs": [
    {
     "name": "stdout",
     "output_type": "stream",
     "text": [
      "5.0\n"
     ]
    }
   ],
   "source": [
    "a=25.5\n",
    "b=5.1\n",
    "result=a/b\n",
    "print(result)"
   ]
  },
  {
   "cell_type": "code",
   "execution_count": null,
   "id": "8d937500-fd24-41be-a33d-231d64e17ad7",
   "metadata": {},
   "outputs": [],
   "source": [
    "#question no.9"
   ]
  },
  {
   "cell_type": "code",
   "execution_count": 50,
   "id": "8abc26ba-797f-415d-bfdf-9ba93fc97d97",
   "metadata": {},
   "outputs": [
    {
     "name": "stdout",
     "output_type": "stream",
     "text": [
      "hello\n"
     ]
    }
   ],
   "source": [
    "part1=\"he\"\n",
    "part2=\"ll\"\n",
    "part3=\"o\"\n",
    "word=part1+part2+part3\n",
    "print(word)"
   ]
  },
  {
   "cell_type": "code",
   "execution_count": null,
   "id": "9f3c4e21-9072-464c-a46f-1eb6e7df1568",
   "metadata": {},
   "outputs": [],
   "source": [
    "# Question no.10"
   ]
  },
  {
   "cell_type": "code",
   "execution_count": 54,
   "id": "4a812ac8-8339-48c4-9f65-050605938281",
   "metadata": {},
   "outputs": [
    {
     "name": "stdout",
     "output_type": "stream",
     "text": [
      "The sky is blue.\n",
      "I love coding.\n"
     ]
    }
   ],
   "source": [
    "part1=\"The sky\"\n",
    "part2=\" is blue.\"\n",
    "sentence1=part1+part2\n",
    "part3=\"I love\"\n",
    "part4=\" coding.\"\n",
    "sentence2=part3+part4\n",
    "print(sentence1)\n",
    "print(sentence2)"
   ]
  }
 ],
 "metadata": {
  "kernelspec": {
   "display_name": "Python 3 (ipykernel)",
   "language": "python",
   "name": "python3"
  },
  "language_info": {
   "codemirror_mode": {
    "name": "ipython",
    "version": 3
   },
   "file_extension": ".py",
   "mimetype": "text/x-python",
   "name": "python",
   "nbconvert_exporter": "python",
   "pygments_lexer": "ipython3",
   "version": "3.12.4"
  }
 },
 "nbformat": 4,
 "nbformat_minor": 5
}
